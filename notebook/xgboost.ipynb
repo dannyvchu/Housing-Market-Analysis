{
 "cells": [
  {
   "cell_type": "code",
   "execution_count": 1,
   "source": [
    "# Import dependencies\r\n",
    "import pandas as pd\r\n",
    "from pathlib import Path\r\n",
    "import matplotlib.pyplot as plt\r\n",
    "from sklearn.ensemble import RandomForestClassifier\r\n",
    "import xgboost as xgb\r\n",
    "from sklearn.model_selection import train_test_split, KFold, cross_val_score\r\n",
    "from sklearn.preprocessing import StandardScaler,OneHotEncoder\r\n",
    "import tensorflow as tf\r\n",
    "import numpy as np\r\n",
    "from scipy import stats\r\n",
    "from scipy.stats import norm\r\n",
    "import seaborn as sns"
   ],
   "outputs": [],
   "metadata": {}
  },
  {
   "cell_type": "code",
   "execution_count": 2,
   "source": [
    "# Import data\r\n",
    "df = pd.read_csv(Path('../resources/regressiondata.csv'))\r\n",
    "df.head()"
   ],
   "outputs": [
    {
     "output_type": "execute_result",
     "data": {
      "text/html": [
       "<div>\n",
       "<style scoped>\n",
       "    .dataframe tbody tr th:only-of-type {\n",
       "        vertical-align: middle;\n",
       "    }\n",
       "\n",
       "    .dataframe tbody tr th {\n",
       "        vertical-align: top;\n",
       "    }\n",
       "\n",
       "    .dataframe thead th {\n",
       "        text-align: right;\n",
       "    }\n",
       "</style>\n",
       "<table border=\"1\" class=\"dataframe\">\n",
       "  <thead>\n",
       "    <tr style=\"text-align: right;\">\n",
       "      <th></th>\n",
       "      <th>Unnamed: 0</th>\n",
       "      <th>zpid</th>\n",
       "      <th>zipcode</th>\n",
       "      <th>latitude</th>\n",
       "      <th>longitude</th>\n",
       "      <th>propertyTaxRate</th>\n",
       "      <th>garageSpaces</th>\n",
       "      <th>hasAssociation</th>\n",
       "      <th>hasCooling</th>\n",
       "      <th>hasGarage</th>\n",
       "      <th>...</th>\n",
       "      <th>homeType_Apartment</th>\n",
       "      <th>homeType_Condo</th>\n",
       "      <th>homeType_Mobile / Manufactured</th>\n",
       "      <th>homeType_MultiFamily</th>\n",
       "      <th>homeType_Multiple Occupancy</th>\n",
       "      <th>homeType_Other</th>\n",
       "      <th>homeType_Residential</th>\n",
       "      <th>homeType_Single Family</th>\n",
       "      <th>homeType_Townhouse</th>\n",
       "      <th>homeType_Vacant Land</th>\n",
       "    </tr>\n",
       "  </thead>\n",
       "  <tbody>\n",
       "    <tr>\n",
       "      <th>0</th>\n",
       "      <td>0</td>\n",
       "      <td>111373431</td>\n",
       "      <td>78660</td>\n",
       "      <td>30.430632</td>\n",
       "      <td>-97.663078</td>\n",
       "      <td>1.98</td>\n",
       "      <td>2</td>\n",
       "      <td>1</td>\n",
       "      <td>1</td>\n",
       "      <td>1</td>\n",
       "      <td>...</td>\n",
       "      <td>0</td>\n",
       "      <td>0</td>\n",
       "      <td>0</td>\n",
       "      <td>0</td>\n",
       "      <td>0</td>\n",
       "      <td>0</td>\n",
       "      <td>0</td>\n",
       "      <td>1</td>\n",
       "      <td>0</td>\n",
       "      <td>0</td>\n",
       "    </tr>\n",
       "    <tr>\n",
       "      <th>1</th>\n",
       "      <td>1</td>\n",
       "      <td>120900430</td>\n",
       "      <td>78660</td>\n",
       "      <td>30.432673</td>\n",
       "      <td>-97.661697</td>\n",
       "      <td>1.98</td>\n",
       "      <td>2</td>\n",
       "      <td>1</td>\n",
       "      <td>1</td>\n",
       "      <td>1</td>\n",
       "      <td>...</td>\n",
       "      <td>0</td>\n",
       "      <td>0</td>\n",
       "      <td>0</td>\n",
       "      <td>0</td>\n",
       "      <td>0</td>\n",
       "      <td>0</td>\n",
       "      <td>0</td>\n",
       "      <td>1</td>\n",
       "      <td>0</td>\n",
       "      <td>0</td>\n",
       "    </tr>\n",
       "    <tr>\n",
       "      <th>2</th>\n",
       "      <td>2</td>\n",
       "      <td>2084491383</td>\n",
       "      <td>78660</td>\n",
       "      <td>30.409748</td>\n",
       "      <td>-97.639771</td>\n",
       "      <td>1.98</td>\n",
       "      <td>0</td>\n",
       "      <td>1</td>\n",
       "      <td>1</td>\n",
       "      <td>0</td>\n",
       "      <td>...</td>\n",
       "      <td>0</td>\n",
       "      <td>0</td>\n",
       "      <td>0</td>\n",
       "      <td>0</td>\n",
       "      <td>0</td>\n",
       "      <td>0</td>\n",
       "      <td>0</td>\n",
       "      <td>1</td>\n",
       "      <td>0</td>\n",
       "      <td>0</td>\n",
       "    </tr>\n",
       "    <tr>\n",
       "      <th>3</th>\n",
       "      <td>3</td>\n",
       "      <td>120901374</td>\n",
       "      <td>78660</td>\n",
       "      <td>30.432112</td>\n",
       "      <td>-97.661659</td>\n",
       "      <td>1.98</td>\n",
       "      <td>2</td>\n",
       "      <td>1</td>\n",
       "      <td>1</td>\n",
       "      <td>1</td>\n",
       "      <td>...</td>\n",
       "      <td>0</td>\n",
       "      <td>0</td>\n",
       "      <td>0</td>\n",
       "      <td>0</td>\n",
       "      <td>0</td>\n",
       "      <td>0</td>\n",
       "      <td>0</td>\n",
       "      <td>1</td>\n",
       "      <td>0</td>\n",
       "      <td>0</td>\n",
       "    </tr>\n",
       "    <tr>\n",
       "      <th>4</th>\n",
       "      <td>4</td>\n",
       "      <td>60134862</td>\n",
       "      <td>78660</td>\n",
       "      <td>30.437368</td>\n",
       "      <td>-97.656860</td>\n",
       "      <td>1.98</td>\n",
       "      <td>0</td>\n",
       "      <td>1</td>\n",
       "      <td>1</td>\n",
       "      <td>0</td>\n",
       "      <td>...</td>\n",
       "      <td>0</td>\n",
       "      <td>0</td>\n",
       "      <td>0</td>\n",
       "      <td>0</td>\n",
       "      <td>0</td>\n",
       "      <td>0</td>\n",
       "      <td>0</td>\n",
       "      <td>1</td>\n",
       "      <td>0</td>\n",
       "      <td>0</td>\n",
       "    </tr>\n",
       "  </tbody>\n",
       "</table>\n",
       "<p>5 rows × 61 columns</p>\n",
       "</div>"
      ],
      "text/plain": [
       "   Unnamed: 0        zpid  zipcode   latitude  longitude  propertyTaxRate  \\\n",
       "0           0   111373431    78660  30.430632 -97.663078             1.98   \n",
       "1           1   120900430    78660  30.432673 -97.661697             1.98   \n",
       "2           2  2084491383    78660  30.409748 -97.639771             1.98   \n",
       "3           3   120901374    78660  30.432112 -97.661659             1.98   \n",
       "4           4    60134862    78660  30.437368 -97.656860             1.98   \n",
       "\n",
       "   garageSpaces  hasAssociation  hasCooling  hasGarage  ...  \\\n",
       "0             2               1           1          1  ...   \n",
       "1             2               1           1          1  ...   \n",
       "2             0               1           1          0  ...   \n",
       "3             2               1           1          1  ...   \n",
       "4             0               1           1          0  ...   \n",
       "\n",
       "   homeType_Apartment  homeType_Condo  homeType_Mobile / Manufactured  \\\n",
       "0                   0               0                               0   \n",
       "1                   0               0                               0   \n",
       "2                   0               0                               0   \n",
       "3                   0               0                               0   \n",
       "4                   0               0                               0   \n",
       "\n",
       "   homeType_MultiFamily  homeType_Multiple Occupancy  homeType_Other  \\\n",
       "0                     0                            0               0   \n",
       "1                     0                            0               0   \n",
       "2                     0                            0               0   \n",
       "3                     0                            0               0   \n",
       "4                     0                            0               0   \n",
       "\n",
       "   homeType_Residential homeType_Single Family  homeType_Townhouse  \\\n",
       "0                     0                      1                   0   \n",
       "1                     0                      1                   0   \n",
       "2                     0                      1                   0   \n",
       "3                     0                      1                   0   \n",
       "4                     0                      1                   0   \n",
       "\n",
       "   homeType_Vacant Land  \n",
       "0                     0  \n",
       "1                     0  \n",
       "2                     0  \n",
       "3                     0  \n",
       "4                     0  \n",
       "\n",
       "[5 rows x 61 columns]"
      ]
     },
     "metadata": {},
     "execution_count": 2
    }
   ],
   "metadata": {}
  },
  {
   "cell_type": "code",
   "execution_count": 3,
   "source": [
    "df.columns"
   ],
   "outputs": [
    {
     "output_type": "execute_result",
     "data": {
      "text/plain": [
       "Index(['Unnamed: 0', 'zpid', 'zipcode', 'latitude', 'longitude',\n",
       "       'propertyTaxRate', 'garageSpaces', 'hasAssociation', 'hasCooling',\n",
       "       'hasGarage', 'hasHeating', 'hasSpa', 'hasView', 'parkingSpaces',\n",
       "       'yearBuilt', 'latestPrice', 'numPriceChanges', 'latest_saledate',\n",
       "       'latest_salemonth', 'latest_saleyear', 'numOfPhotos',\n",
       "       'numOfAccessibilityFeatures', 'numOfAppliances', 'numOfParkingFeatures',\n",
       "       'numOfPatioAndPorchFeatures', 'numOfSecurityFeatures',\n",
       "       'numOfWaterfrontFeatures', 'numOfWindowFeatures',\n",
       "       'numOfCommunityFeatures', 'lotSizeSqFt', 'livingAreaSqFt',\n",
       "       'numOfPrimarySchools', 'numOfElementarySchools', 'numOfMiddleSchools',\n",
       "       'numOfHighSchools', 'avgSchoolDistance', 'avgSchoolRating',\n",
       "       'avgSchoolSize', 'MedianStudentsPerTeacher', 'numOfBathrooms',\n",
       "       'numOfBedrooms', 'numOfStories', 'city_austin', 'city_del valle',\n",
       "       'city_driftwood', 'city_dripping springs', 'city_manchaca',\n",
       "       'city_manor', 'city_pflugerville', 'city_road', 'city_west lake hills',\n",
       "       'homeType_Apartment', 'homeType_Condo',\n",
       "       'homeType_Mobile / Manufactured', 'homeType_MultiFamily',\n",
       "       'homeType_Multiple Occupancy', 'homeType_Other', 'homeType_Residential',\n",
       "       'homeType_Single Family', 'homeType_Townhouse', 'homeType_Vacant Land'],\n",
       "      dtype='object')"
      ]
     },
     "metadata": {},
     "execution_count": 3
    }
   ],
   "metadata": {}
  },
  {
   "cell_type": "code",
   "execution_count": 4,
   "source": [
    "df.dtypes"
   ],
   "outputs": [
    {
     "output_type": "execute_result",
     "data": {
      "text/plain": [
       "Unnamed: 0                  int64\n",
       "zpid                        int64\n",
       "zipcode                     int64\n",
       "latitude                  float64\n",
       "longitude                 float64\n",
       "                           ...   \n",
       "homeType_Other              int64\n",
       "homeType_Residential        int64\n",
       "homeType_Single Family      int64\n",
       "homeType_Townhouse          int64\n",
       "homeType_Vacant Land        int64\n",
       "Length: 61, dtype: object"
      ]
     },
     "metadata": {},
     "execution_count": 4
    }
   ],
   "metadata": {}
  },
  {
   "cell_type": "code",
   "execution_count": 5,
   "source": [
    "df.isnull().sum()"
   ],
   "outputs": [
    {
     "output_type": "execute_result",
     "data": {
      "text/plain": [
       "Unnamed: 0                0\n",
       "zpid                      0\n",
       "zipcode                   0\n",
       "latitude                  0\n",
       "longitude                 0\n",
       "                         ..\n",
       "homeType_Other            0\n",
       "homeType_Residential      0\n",
       "homeType_Single Family    0\n",
       "homeType_Townhouse        0\n",
       "homeType_Vacant Land      0\n",
       "Length: 61, dtype: int64"
      ]
     },
     "metadata": {},
     "execution_count": 5
    }
   ],
   "metadata": {}
  },
  {
   "cell_type": "code",
   "execution_count": 6,
   "source": [
    "# Save 'zpid'\r\n",
    "id_df = df['zpid']\r\n",
    "\r\n",
    "# Drop 'zpid' column\r\n",
    "df.drop(\"zpid\", axis = 1, inplace = True)\r\n",
    "df.drop(\"latest_saledate\", axis = 1, inplace = True)\r\n",
    "\r\n",
    "# Check data size after dropping the 'Id' variable\r\n",
    "print(\"\\nData size: {} \".format(df.shape)) "
   ],
   "outputs": [
    {
     "output_type": "stream",
     "name": "stdout",
     "text": [
      "\n",
      "Data size: (15171, 59) \n"
     ]
    }
   ],
   "metadata": {}
  },
  {
   "cell_type": "code",
   "execution_count": 7,
   "source": [
    "# Create features and target\r\n",
    "y = df[\"latestPrice\"]\r\n",
    "X = df.drop(columns=['latestPrice'])"
   ],
   "outputs": [],
   "metadata": {}
  },
  {
   "cell_type": "code",
   "execution_count": 8,
   "source": [
    "# Split data into train/test\r\n",
    "X_train, X_test, y_train, y_test = train_test_split(X, y, random_state=1)\r\n",
    "X_train.shape"
   ],
   "outputs": [
    {
     "output_type": "execute_result",
     "data": {
      "text/plain": [
       "(11378, 58)"
      ]
     },
     "metadata": {},
     "execution_count": 8
    }
   ],
   "metadata": {}
  },
  {
   "cell_type": "code",
   "execution_count": 9,
   "source": [
    "model_xgb = xgb.XGBRegressor(colsample_bytree=0.2, gamma=0.0, \r\n",
    "                             learning_rate=0.05, max_depth=6, \r\n",
    "                             min_child_weight=1.5, n_estimators=100,\r\n",
    "                             reg_alpha=0.9, reg_lambda=0.6,\r\n",
    "                             subsample=0.2,seed=42, silent=1,\r\n",
    "                             random_state =7)"
   ],
   "outputs": [],
   "metadata": {}
  },
  {
   "cell_type": "code",
   "execution_count": 11,
   "source": [
    "# Fitting the model\r\n",
    "model_xgb = model_xgb.fit(X_train, y_train)"
   ],
   "outputs": [],
   "metadata": {}
  },
  {
   "cell_type": "code",
   "execution_count": 12,
   "source": [
    "# Create prediction\r\n",
    "y_pred = model_xgb.predict(X_test)\r\n",
    "results = pd.DataFrame({\"Prediction\": y_pred, \"Actual\": y_test}).reset_index(drop=True)\r\n",
    "results.head(20)"
   ],
   "outputs": [
    {
     "output_type": "execute_result",
     "data": {
      "text/html": [
       "<div>\n",
       "<style scoped>\n",
       "    .dataframe tbody tr th:only-of-type {\n",
       "        vertical-align: middle;\n",
       "    }\n",
       "\n",
       "    .dataframe tbody tr th {\n",
       "        vertical-align: top;\n",
       "    }\n",
       "\n",
       "    .dataframe thead th {\n",
       "        text-align: right;\n",
       "    }\n",
       "</style>\n",
       "<table border=\"1\" class=\"dataframe\">\n",
       "  <thead>\n",
       "    <tr style=\"text-align: right;\">\n",
       "      <th></th>\n",
       "      <th>Prediction</th>\n",
       "      <th>Actual</th>\n",
       "    </tr>\n",
       "  </thead>\n",
       "  <tbody>\n",
       "    <tr>\n",
       "      <th>0</th>\n",
       "      <td>3.995092e+05</td>\n",
       "      <td>439900.0</td>\n",
       "    </tr>\n",
       "    <tr>\n",
       "      <th>1</th>\n",
       "      <td>5.362822e+05</td>\n",
       "      <td>560000.0</td>\n",
       "    </tr>\n",
       "    <tr>\n",
       "      <th>2</th>\n",
       "      <td>3.783416e+05</td>\n",
       "      <td>450000.0</td>\n",
       "    </tr>\n",
       "    <tr>\n",
       "      <th>3</th>\n",
       "      <td>4.313158e+05</td>\n",
       "      <td>375000.0</td>\n",
       "    </tr>\n",
       "    <tr>\n",
       "      <th>4</th>\n",
       "      <td>1.482342e+06</td>\n",
       "      <td>2100000.0</td>\n",
       "    </tr>\n",
       "    <tr>\n",
       "      <th>5</th>\n",
       "      <td>7.057002e+05</td>\n",
       "      <td>775000.0</td>\n",
       "    </tr>\n",
       "    <tr>\n",
       "      <th>6</th>\n",
       "      <td>4.556816e+05</td>\n",
       "      <td>433000.0</td>\n",
       "    </tr>\n",
       "    <tr>\n",
       "      <th>7</th>\n",
       "      <td>2.939353e+05</td>\n",
       "      <td>279500.0</td>\n",
       "    </tr>\n",
       "    <tr>\n",
       "      <th>8</th>\n",
       "      <td>6.681822e+05</td>\n",
       "      <td>575000.0</td>\n",
       "    </tr>\n",
       "    <tr>\n",
       "      <th>9</th>\n",
       "      <td>2.787602e+06</td>\n",
       "      <td>2199000.0</td>\n",
       "    </tr>\n",
       "    <tr>\n",
       "      <th>10</th>\n",
       "      <td>3.418499e+05</td>\n",
       "      <td>318000.0</td>\n",
       "    </tr>\n",
       "    <tr>\n",
       "      <th>11</th>\n",
       "      <td>3.152818e+05</td>\n",
       "      <td>325000.0</td>\n",
       "    </tr>\n",
       "    <tr>\n",
       "      <th>12</th>\n",
       "      <td>3.066806e+05</td>\n",
       "      <td>269900.0</td>\n",
       "    </tr>\n",
       "    <tr>\n",
       "      <th>13</th>\n",
       "      <td>3.792698e+05</td>\n",
       "      <td>499900.0</td>\n",
       "    </tr>\n",
       "    <tr>\n",
       "      <th>14</th>\n",
       "      <td>5.243118e+05</td>\n",
       "      <td>575000.0</td>\n",
       "    </tr>\n",
       "    <tr>\n",
       "      <th>15</th>\n",
       "      <td>3.349628e+05</td>\n",
       "      <td>364900.0</td>\n",
       "    </tr>\n",
       "    <tr>\n",
       "      <th>16</th>\n",
       "      <td>4.646239e+05</td>\n",
       "      <td>490000.0</td>\n",
       "    </tr>\n",
       "    <tr>\n",
       "      <th>17</th>\n",
       "      <td>4.621406e+05</td>\n",
       "      <td>439900.0</td>\n",
       "    </tr>\n",
       "    <tr>\n",
       "      <th>18</th>\n",
       "      <td>4.946614e+05</td>\n",
       "      <td>699900.0</td>\n",
       "    </tr>\n",
       "    <tr>\n",
       "      <th>19</th>\n",
       "      <td>3.792367e+05</td>\n",
       "      <td>340000.0</td>\n",
       "    </tr>\n",
       "  </tbody>\n",
       "</table>\n",
       "</div>"
      ],
      "text/plain": [
       "      Prediction     Actual\n",
       "0   3.995092e+05   439900.0\n",
       "1   5.362822e+05   560000.0\n",
       "2   3.783416e+05   450000.0\n",
       "3   4.313158e+05   375000.0\n",
       "4   1.482342e+06  2100000.0\n",
       "5   7.057002e+05   775000.0\n",
       "6   4.556816e+05   433000.0\n",
       "7   2.939353e+05   279500.0\n",
       "8   6.681822e+05   575000.0\n",
       "9   2.787602e+06  2199000.0\n",
       "10  3.418499e+05   318000.0\n",
       "11  3.152818e+05   325000.0\n",
       "12  3.066806e+05   269900.0\n",
       "13  3.792698e+05   499900.0\n",
       "14  5.243118e+05   575000.0\n",
       "15  3.349628e+05   364900.0\n",
       "16  4.646239e+05   490000.0\n",
       "17  4.621406e+05   439900.0\n",
       "18  4.946614e+05   699900.0\n",
       "19  3.792367e+05   340000.0"
      ]
     },
     "metadata": {},
     "execution_count": 12
    }
   ],
   "metadata": {}
  },
  {
   "cell_type": "code",
   "execution_count": 13,
   "source": [
    "# Calculate R squared and Adjusted R Square\r\n",
    "import statsmodels.api as sm\r\n",
    "result = sm.OLS(y_pred, y_test).fit()\r\n",
    "print(result.rsquared, result.rsquared_adj)"
   ],
   "outputs": [
    {
     "output_type": "stream",
     "name": "stdout",
     "text": [
      "0.8522453872484721 0.8522064224244342\n"
     ]
    }
   ],
   "metadata": {}
  },
  {
   "cell_type": "code",
   "execution_count": 14,
   "source": [
    "# Calculate Mean Squared Error\r\n",
    "from sklearn.metrics import mean_squared_error, mean_squared_log_error\r\n",
    "import math\r\n",
    "print(mean_squared_error(y_test, y_pred))\r\n",
    "print(math.sqrt(mean_squared_error(y_test, y_pred)))\r\n",
    "print(mean_squared_log_error(y_test, y_pred))"
   ],
   "outputs": [
    {
     "output_type": "stream",
     "name": "stdout",
     "text": [
      "74819280843.0606\n",
      "273531.13322446606\n",
      "0.09003668587549966\n"
     ]
    }
   ],
   "metadata": {}
  },
  {
   "cell_type": "code",
   "execution_count": 15,
   "source": [
    "# Calculate Mean Absolute Error(MAE)\r\n",
    "from sklearn.metrics import mean_absolute_error\r\n",
    "print(mean_absolute_error(y_test, y_pred))"
   ],
   "outputs": [
    {
     "output_type": "stream",
     "name": "stdout",
     "text": [
      "109245.37396602293\n"
     ]
    }
   ],
   "metadata": {}
  },
  {
   "cell_type": "code",
   "execution_count": null,
   "source": [],
   "outputs": [],
   "metadata": {}
  }
 ],
 "metadata": {
  "orig_nbformat": 4,
  "language_info": {
   "name": "python",
   "version": "3.7.10",
   "mimetype": "text/x-python",
   "codemirror_mode": {
    "name": "ipython",
    "version": 3
   },
   "pygments_lexer": "ipython3",
   "nbconvert_exporter": "python",
   "file_extension": ".py"
  },
  "kernelspec": {
   "name": "python3",
   "display_name": "Python 3.7.10 64-bit ('mlenv': conda)"
  },
  "interpreter": {
   "hash": "7ca3b5e5dcf01b5ba4abae9334de4268c4ab47ff41afa87f683d9b5d1eebdf48"
  }
 },
 "nbformat": 4,
 "nbformat_minor": 2
}