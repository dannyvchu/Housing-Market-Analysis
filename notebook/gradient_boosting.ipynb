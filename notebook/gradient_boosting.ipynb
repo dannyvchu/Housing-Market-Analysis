{
 "cells": [
  {
   "cell_type": "code",
   "execution_count": 1,
   "source": [
    "# Import dependencies\r\n",
    "import numpy as np\r\n",
    "import pandas as pd\r\n",
    "from pathlib import Path\r\n",
    "from sklearn.ensemble import GradientBoostingRegressor\r\n",
    "from sklearn.preprocessing import LabelEncoder\r\n",
    "from sklearn.model_selection import train_test_split"
   ],
   "outputs": [],
   "metadata": {}
  },
  {
   "cell_type": "code",
   "execution_count": 2,
   "source": [
    "# Import data\r\n",
    "# Import data\r\n",
    "df = pd.read_csv(Path('../resources/regressiondata.csv'))\r\n",
    "df.head()"
   ],
   "outputs": [
    {
     "output_type": "execute_result",
     "data": {
      "text/plain": [
       "   Unnamed: 0        zpid  zipcode   latitude  longitude  propertyTaxRate  \\\n",
       "0           0   111373431    78660  30.430632 -97.663078             1.98   \n",
       "1           1   120900430    78660  30.432673 -97.661697             1.98   \n",
       "2           2  2084491383    78660  30.409748 -97.639771             1.98   \n",
       "3           3   120901374    78660  30.432112 -97.661659             1.98   \n",
       "4           4    60134862    78660  30.437368 -97.656860             1.98   \n",
       "\n",
       "   garageSpaces  hasAssociation  hasCooling  hasGarage  ...  \\\n",
       "0             2               1           1          1  ...   \n",
       "1             2               1           1          1  ...   \n",
       "2             0               1           1          0  ...   \n",
       "3             2               1           1          1  ...   \n",
       "4             0               1           1          0  ...   \n",
       "\n",
       "   homeType_Apartment  homeType_Condo  homeType_Mobile / Manufactured  \\\n",
       "0                   0               0                               0   \n",
       "1                   0               0                               0   \n",
       "2                   0               0                               0   \n",
       "3                   0               0                               0   \n",
       "4                   0               0                               0   \n",
       "\n",
       "   homeType_MultiFamily  homeType_Multiple Occupancy  homeType_Other  \\\n",
       "0                     0                            0               0   \n",
       "1                     0                            0               0   \n",
       "2                     0                            0               0   \n",
       "3                     0                            0               0   \n",
       "4                     0                            0               0   \n",
       "\n",
       "   homeType_Residential homeType_Single Family  homeType_Townhouse  \\\n",
       "0                     0                      1                   0   \n",
       "1                     0                      1                   0   \n",
       "2                     0                      1                   0   \n",
       "3                     0                      1                   0   \n",
       "4                     0                      1                   0   \n",
       "\n",
       "   homeType_Vacant Land  \n",
       "0                     0  \n",
       "1                     0  \n",
       "2                     0  \n",
       "3                     0  \n",
       "4                     0  \n",
       "\n",
       "[5 rows x 61 columns]"
      ],
      "text/html": [
       "<div>\n",
       "<style scoped>\n",
       "    .dataframe tbody tr th:only-of-type {\n",
       "        vertical-align: middle;\n",
       "    }\n",
       "\n",
       "    .dataframe tbody tr th {\n",
       "        vertical-align: top;\n",
       "    }\n",
       "\n",
       "    .dataframe thead th {\n",
       "        text-align: right;\n",
       "    }\n",
       "</style>\n",
       "<table border=\"1\" class=\"dataframe\">\n",
       "  <thead>\n",
       "    <tr style=\"text-align: right;\">\n",
       "      <th></th>\n",
       "      <th>Unnamed: 0</th>\n",
       "      <th>zpid</th>\n",
       "      <th>zipcode</th>\n",
       "      <th>latitude</th>\n",
       "      <th>longitude</th>\n",
       "      <th>propertyTaxRate</th>\n",
       "      <th>garageSpaces</th>\n",
       "      <th>hasAssociation</th>\n",
       "      <th>hasCooling</th>\n",
       "      <th>hasGarage</th>\n",
       "      <th>...</th>\n",
       "      <th>homeType_Apartment</th>\n",
       "      <th>homeType_Condo</th>\n",
       "      <th>homeType_Mobile / Manufactured</th>\n",
       "      <th>homeType_MultiFamily</th>\n",
       "      <th>homeType_Multiple Occupancy</th>\n",
       "      <th>homeType_Other</th>\n",
       "      <th>homeType_Residential</th>\n",
       "      <th>homeType_Single Family</th>\n",
       "      <th>homeType_Townhouse</th>\n",
       "      <th>homeType_Vacant Land</th>\n",
       "    </tr>\n",
       "  </thead>\n",
       "  <tbody>\n",
       "    <tr>\n",
       "      <th>0</th>\n",
       "      <td>0</td>\n",
       "      <td>111373431</td>\n",
       "      <td>78660</td>\n",
       "      <td>30.430632</td>\n",
       "      <td>-97.663078</td>\n",
       "      <td>1.98</td>\n",
       "      <td>2</td>\n",
       "      <td>1</td>\n",
       "      <td>1</td>\n",
       "      <td>1</td>\n",
       "      <td>...</td>\n",
       "      <td>0</td>\n",
       "      <td>0</td>\n",
       "      <td>0</td>\n",
       "      <td>0</td>\n",
       "      <td>0</td>\n",
       "      <td>0</td>\n",
       "      <td>0</td>\n",
       "      <td>1</td>\n",
       "      <td>0</td>\n",
       "      <td>0</td>\n",
       "    </tr>\n",
       "    <tr>\n",
       "      <th>1</th>\n",
       "      <td>1</td>\n",
       "      <td>120900430</td>\n",
       "      <td>78660</td>\n",
       "      <td>30.432673</td>\n",
       "      <td>-97.661697</td>\n",
       "      <td>1.98</td>\n",
       "      <td>2</td>\n",
       "      <td>1</td>\n",
       "      <td>1</td>\n",
       "      <td>1</td>\n",
       "      <td>...</td>\n",
       "      <td>0</td>\n",
       "      <td>0</td>\n",
       "      <td>0</td>\n",
       "      <td>0</td>\n",
       "      <td>0</td>\n",
       "      <td>0</td>\n",
       "      <td>0</td>\n",
       "      <td>1</td>\n",
       "      <td>0</td>\n",
       "      <td>0</td>\n",
       "    </tr>\n",
       "    <tr>\n",
       "      <th>2</th>\n",
       "      <td>2</td>\n",
       "      <td>2084491383</td>\n",
       "      <td>78660</td>\n",
       "      <td>30.409748</td>\n",
       "      <td>-97.639771</td>\n",
       "      <td>1.98</td>\n",
       "      <td>0</td>\n",
       "      <td>1</td>\n",
       "      <td>1</td>\n",
       "      <td>0</td>\n",
       "      <td>...</td>\n",
       "      <td>0</td>\n",
       "      <td>0</td>\n",
       "      <td>0</td>\n",
       "      <td>0</td>\n",
       "      <td>0</td>\n",
       "      <td>0</td>\n",
       "      <td>0</td>\n",
       "      <td>1</td>\n",
       "      <td>0</td>\n",
       "      <td>0</td>\n",
       "    </tr>\n",
       "    <tr>\n",
       "      <th>3</th>\n",
       "      <td>3</td>\n",
       "      <td>120901374</td>\n",
       "      <td>78660</td>\n",
       "      <td>30.432112</td>\n",
       "      <td>-97.661659</td>\n",
       "      <td>1.98</td>\n",
       "      <td>2</td>\n",
       "      <td>1</td>\n",
       "      <td>1</td>\n",
       "      <td>1</td>\n",
       "      <td>...</td>\n",
       "      <td>0</td>\n",
       "      <td>0</td>\n",
       "      <td>0</td>\n",
       "      <td>0</td>\n",
       "      <td>0</td>\n",
       "      <td>0</td>\n",
       "      <td>0</td>\n",
       "      <td>1</td>\n",
       "      <td>0</td>\n",
       "      <td>0</td>\n",
       "    </tr>\n",
       "    <tr>\n",
       "      <th>4</th>\n",
       "      <td>4</td>\n",
       "      <td>60134862</td>\n",
       "      <td>78660</td>\n",
       "      <td>30.437368</td>\n",
       "      <td>-97.656860</td>\n",
       "      <td>1.98</td>\n",
       "      <td>0</td>\n",
       "      <td>1</td>\n",
       "      <td>1</td>\n",
       "      <td>0</td>\n",
       "      <td>...</td>\n",
       "      <td>0</td>\n",
       "      <td>0</td>\n",
       "      <td>0</td>\n",
       "      <td>0</td>\n",
       "      <td>0</td>\n",
       "      <td>0</td>\n",
       "      <td>0</td>\n",
       "      <td>1</td>\n",
       "      <td>0</td>\n",
       "      <td>0</td>\n",
       "    </tr>\n",
       "  </tbody>\n",
       "</table>\n",
       "<p>5 rows × 61 columns</p>\n",
       "</div>"
      ]
     },
     "metadata": {},
     "execution_count": 2
    }
   ],
   "metadata": {}
  },
  {
   "cell_type": "code",
   "execution_count": 3,
   "source": [
    "# Save 'zpid'\r\n",
    "id_df = df['zpid']\r\n",
    "\r\n",
    "# Drop 'zpid' column\r\n",
    "df.drop(\"zpid\", axis = 1, inplace = True)\r\n",
    "df.drop(\"latest_saledate\", axis = 1, inplace = True)\r\n",
    "\r\n",
    "# Check data size after dropping the 'Id' variable\r\n",
    "print(\"\\nData size: {} \".format(df.shape)) "
   ],
   "outputs": [
    {
     "output_type": "stream",
     "name": "stdout",
     "text": [
      "\n",
      "Data size: (15171, 59) \n"
     ]
    }
   ],
   "metadata": {}
  },
  {
   "cell_type": "code",
   "execution_count": 4,
   "source": [
    "# Create features and target\r\n",
    "y = df[\"latestPrice\"]\r\n",
    "X = df.drop(columns=['latestPrice'])"
   ],
   "outputs": [],
   "metadata": {}
  },
  {
   "cell_type": "code",
   "execution_count": 5,
   "source": [
    "# Split data into train/test\r\n",
    "X_train, X_test, y_train, y_test = train_test_split(X, y, random_state=1)\r\n",
    "X_train.shape"
   ],
   "outputs": [
    {
     "output_type": "execute_result",
     "data": {
      "text/plain": [
       "(11378, 58)"
      ]
     },
     "metadata": {},
     "execution_count": 5
    }
   ],
   "metadata": {}
  },
  {
   "cell_type": "code",
   "execution_count": 6,
   "source": [
    "# Gradient Boosting Regressor with 2 estimators\r\n",
    "GB=GradientBoostingRegressor(n_estimators=2)\r\n",
    "GB.fit(X_train, y_train)"
   ],
   "outputs": [
    {
     "output_type": "execute_result",
     "data": {
      "text/plain": [
       "GradientBoostingRegressor(n_estimators=2)"
      ]
     },
     "metadata": {},
     "execution_count": 6
    }
   ],
   "metadata": {}
  },
  {
   "cell_type": "code",
   "execution_count": 7,
   "source": [
    "# Create predictions\r\n",
    "y_pred = GB.predict(X_test)\r\n",
    "results = pd.DataFrame({\"Prediction\": y_pred, \"Actual\": y_test}).reset_index(drop=True)\r\n",
    "results.head(20)"
   ],
   "outputs": [
    {
     "output_type": "execute_result",
     "data": {
      "text/plain": [
       "      Prediction     Actual\n",
       "0   4.931914e+05   439900.0\n",
       "1   5.319320e+05   560000.0\n",
       "2   4.931914e+05   450000.0\n",
       "3   4.931914e+05   375000.0\n",
       "4   6.795005e+05  2100000.0\n",
       "5   4.931914e+05   775000.0\n",
       "6   5.319320e+05   433000.0\n",
       "7   4.789696e+05   279500.0\n",
       "8   5.319320e+05   575000.0\n",
       "9   1.241395e+06  2199000.0\n",
       "10  4.931914e+05   318000.0\n",
       "11  4.789696e+05   325000.0\n",
       "12  4.789696e+05   269900.0\n",
       "13  4.789696e+05   499900.0\n",
       "14  4.931914e+05   575000.0\n",
       "15  4.789696e+05   364900.0\n",
       "16  5.004072e+05   490000.0\n",
       "17  5.319320e+05   439900.0\n",
       "18  4.931914e+05   699900.0\n",
       "19  5.037722e+05   340000.0"
      ],
      "text/html": [
       "<div>\n",
       "<style scoped>\n",
       "    .dataframe tbody tr th:only-of-type {\n",
       "        vertical-align: middle;\n",
       "    }\n",
       "\n",
       "    .dataframe tbody tr th {\n",
       "        vertical-align: top;\n",
       "    }\n",
       "\n",
       "    .dataframe thead th {\n",
       "        text-align: right;\n",
       "    }\n",
       "</style>\n",
       "<table border=\"1\" class=\"dataframe\">\n",
       "  <thead>\n",
       "    <tr style=\"text-align: right;\">\n",
       "      <th></th>\n",
       "      <th>Prediction</th>\n",
       "      <th>Actual</th>\n",
       "    </tr>\n",
       "  </thead>\n",
       "  <tbody>\n",
       "    <tr>\n",
       "      <th>0</th>\n",
       "      <td>4.931914e+05</td>\n",
       "      <td>439900.0</td>\n",
       "    </tr>\n",
       "    <tr>\n",
       "      <th>1</th>\n",
       "      <td>5.319320e+05</td>\n",
       "      <td>560000.0</td>\n",
       "    </tr>\n",
       "    <tr>\n",
       "      <th>2</th>\n",
       "      <td>4.931914e+05</td>\n",
       "      <td>450000.0</td>\n",
       "    </tr>\n",
       "    <tr>\n",
       "      <th>3</th>\n",
       "      <td>4.931914e+05</td>\n",
       "      <td>375000.0</td>\n",
       "    </tr>\n",
       "    <tr>\n",
       "      <th>4</th>\n",
       "      <td>6.795005e+05</td>\n",
       "      <td>2100000.0</td>\n",
       "    </tr>\n",
       "    <tr>\n",
       "      <th>5</th>\n",
       "      <td>4.931914e+05</td>\n",
       "      <td>775000.0</td>\n",
       "    </tr>\n",
       "    <tr>\n",
       "      <th>6</th>\n",
       "      <td>5.319320e+05</td>\n",
       "      <td>433000.0</td>\n",
       "    </tr>\n",
       "    <tr>\n",
       "      <th>7</th>\n",
       "      <td>4.789696e+05</td>\n",
       "      <td>279500.0</td>\n",
       "    </tr>\n",
       "    <tr>\n",
       "      <th>8</th>\n",
       "      <td>5.319320e+05</td>\n",
       "      <td>575000.0</td>\n",
       "    </tr>\n",
       "    <tr>\n",
       "      <th>9</th>\n",
       "      <td>1.241395e+06</td>\n",
       "      <td>2199000.0</td>\n",
       "    </tr>\n",
       "    <tr>\n",
       "      <th>10</th>\n",
       "      <td>4.931914e+05</td>\n",
       "      <td>318000.0</td>\n",
       "    </tr>\n",
       "    <tr>\n",
       "      <th>11</th>\n",
       "      <td>4.789696e+05</td>\n",
       "      <td>325000.0</td>\n",
       "    </tr>\n",
       "    <tr>\n",
       "      <th>12</th>\n",
       "      <td>4.789696e+05</td>\n",
       "      <td>269900.0</td>\n",
       "    </tr>\n",
       "    <tr>\n",
       "      <th>13</th>\n",
       "      <td>4.789696e+05</td>\n",
       "      <td>499900.0</td>\n",
       "    </tr>\n",
       "    <tr>\n",
       "      <th>14</th>\n",
       "      <td>4.931914e+05</td>\n",
       "      <td>575000.0</td>\n",
       "    </tr>\n",
       "    <tr>\n",
       "      <th>15</th>\n",
       "      <td>4.789696e+05</td>\n",
       "      <td>364900.0</td>\n",
       "    </tr>\n",
       "    <tr>\n",
       "      <th>16</th>\n",
       "      <td>5.004072e+05</td>\n",
       "      <td>490000.0</td>\n",
       "    </tr>\n",
       "    <tr>\n",
       "      <th>17</th>\n",
       "      <td>5.319320e+05</td>\n",
       "      <td>439900.0</td>\n",
       "    </tr>\n",
       "    <tr>\n",
       "      <th>18</th>\n",
       "      <td>4.931914e+05</td>\n",
       "      <td>699900.0</td>\n",
       "    </tr>\n",
       "    <tr>\n",
       "      <th>19</th>\n",
       "      <td>5.037722e+05</td>\n",
       "      <td>340000.0</td>\n",
       "    </tr>\n",
       "  </tbody>\n",
       "</table>\n",
       "</div>"
      ]
     },
     "metadata": {},
     "execution_count": 7
    }
   ],
   "metadata": {}
  },
  {
   "cell_type": "code",
   "execution_count": 11,
   "source": [
    "for x in y_pred:\r\n",
    "    if x < 0:\r\n",
    "        print(x)"
   ],
   "outputs": [],
   "metadata": {}
  },
  {
   "cell_type": "code",
   "execution_count": 8,
   "source": [
    "# Calculate R squared and Adjusted R Square\r\n",
    "import statsmodels.api as sm\r\n",
    "result = sm.OLS(y_pred, y_test).fit()\r\n",
    "print(result.rsquared, result.rsquared_adj)"
   ],
   "outputs": [
    {
     "output_type": "stream",
     "name": "stdout",
     "text": [
      "0.6362379642461529 0.6361420354392557\n"
     ]
    }
   ],
   "metadata": {}
  },
  {
   "cell_type": "code",
   "execution_count": 13,
   "source": [
    "# Calculate Mean Squared Error\r\n",
    "from sklearn.metrics import mean_squared_error, mean_squared_log_error\r\n",
    "import math\r\n",
    "print(mean_squared_error(y_test, y_pred))\r\n",
    "print(math.sqrt(mean_squared_error(y_test, y_pred)))\r\n",
    "print(mean_squared_log_error(y_test, y_pred))"
   ],
   "outputs": [
    {
     "output_type": "stream",
     "name": "stdout",
     "text": [
      "182468510515.16418\n",
      "427163.33002162556\n",
      "0.26582395295250466\n"
     ]
    }
   ],
   "metadata": {}
  },
  {
   "cell_type": "code",
   "execution_count": 10,
   "source": [
    "# Calculate Mean Absolute Error(MAE)\r\n",
    "from sklearn.metrics import mean_absolute_error\r\n",
    "print(mean_absolute_error(y_test, y_pred))"
   ],
   "outputs": [
    {
     "output_type": "stream",
     "name": "stdout",
     "text": [
      "217201.49035516093\n"
     ]
    }
   ],
   "metadata": {}
  },
  {
   "cell_type": "code",
   "execution_count": 16,
   "source": [
    "msle = np.mean(np.power(np.log1p(y_pred) - np.log1p(y_test), 2))\r\n",
    "msle"
   ],
   "outputs": [
    {
     "output_type": "execute_result",
     "data": {
      "text/plain": [
       "0.2658239529525041"
      ]
     },
     "metadata": {},
     "execution_count": 16
    }
   ],
   "metadata": {}
  },
  {
   "cell_type": "code",
   "execution_count": null,
   "source": [],
   "outputs": [],
   "metadata": {}
  }
 ],
 "metadata": {
  "orig_nbformat": 4,
  "language_info": {
   "name": "python",
   "version": "3.7.10",
   "mimetype": "text/x-python",
   "codemirror_mode": {
    "name": "ipython",
    "version": 3
   },
   "pygments_lexer": "ipython3",
   "nbconvert_exporter": "python",
   "file_extension": ".py"
  },
  "kernelspec": {
   "name": "python3",
   "display_name": "Python 3.7.10 64-bit ('mlenv': conda)"
  },
  "interpreter": {
   "hash": "7ca3b5e5dcf01b5ba4abae9334de4268c4ab47ff41afa87f683d9b5d1eebdf48"
  }
 },
 "nbformat": 4,
 "nbformat_minor": 2
}